{
 "cells": [
  {
   "cell_type": "markdown",
   "metadata": {},
   "source": [
    "Задание 1"
   ]
  },
  {
   "cell_type": "markdown",
   "metadata": {},
   "source": [
    "Для данных об объемах пассажирских авиаперевозок в Австралии постройте модель простого экспоненциального сглаживания (модель Брауна). \n",
    "Получите прогноз на 10 лет вперед. \n",
    "Отобразите на графике аппроксимацию исходного ряда и полученный прогноз."
   ]
  },
  {
   "cell_type": "code",
   "execution_count": 43,
   "metadata": {},
   "outputs": [],
   "source": [
    "import numpy as np\n",
    "import pandas as pd\n",
    "\n",
    "import matplotlib.pyplot as plt\n",
    "%matplotlib inline"
   ]
  },
  {
   "cell_type": "code",
   "execution_count": 44,
   "metadata": {},
   "outputs": [
    {
     "data": {
      "text/html": [
       "<div>\n",
       "<style scoped>\n",
       "    .dataframe tbody tr th:only-of-type {\n",
       "        vertical-align: middle;\n",
       "    }\n",
       "\n",
       "    .dataframe tbody tr th {\n",
       "        vertical-align: top;\n",
       "    }\n",
       "\n",
       "    .dataframe thead th {\n",
       "        text-align: right;\n",
       "    }\n",
       "</style>\n",
       "<table border=\"1\" class=\"dataframe\">\n",
       "  <thead>\n",
       "    <tr style=\"text-align: right;\">\n",
       "      <th></th>\n",
       "      <th>Passengers</th>\n",
       "    </tr>\n",
       "    <tr>\n",
       "      <th>Year</th>\n",
       "      <th></th>\n",
       "    </tr>\n",
       "  </thead>\n",
       "  <tbody>\n",
       "    <tr>\n",
       "      <td>1970-01-01</td>\n",
       "      <td>7.32</td>\n",
       "    </tr>\n",
       "    <tr>\n",
       "      <td>1971-01-01</td>\n",
       "      <td>7.33</td>\n",
       "    </tr>\n",
       "    <tr>\n",
       "      <td>1972-01-01</td>\n",
       "      <td>7.80</td>\n",
       "    </tr>\n",
       "    <tr>\n",
       "      <td>1973-01-01</td>\n",
       "      <td>9.38</td>\n",
       "    </tr>\n",
       "    <tr>\n",
       "      <td>1974-01-01</td>\n",
       "      <td>10.66</td>\n",
       "    </tr>\n",
       "  </tbody>\n",
       "</table>\n",
       "</div>"
      ],
      "text/plain": [
       "            Passengers\n",
       "Year                  \n",
       "1970-01-01        7.32\n",
       "1971-01-01        7.33\n",
       "1972-01-01        7.80\n",
       "1973-01-01        9.38\n",
       "1974-01-01       10.66"
      ]
     },
     "execution_count": 44,
     "metadata": {},
     "output_type": "execute_result"
    }
   ],
   "source": [
    "airTransportation = pd.read_csv('data/data.csv', index_col='Year', parse_dates=True)\n",
    "airTransportation.head()"
   ]
  },
  {
   "cell_type": "code",
   "execution_count": 45,
   "metadata": {},
   "outputs": [
    {
     "data": {
      "image/png": "[encoded data removed]",
      "text/plain": [
       "<Figure size 864x360 with 1 Axes>"
      ]
     },
     "metadata": {
      "needs_background": "light"
     },
     "output_type": "display_data"
    }
   ],
   "source": [
    "airTransportation['Passengers'].plot(figsize=(12,5))\n",
    "plt.title('International airline passengers: monthly totals in thousands. Jan 49 – Dec 60')\n",
    "plt.show()"
   ]
  },
  {
   "cell_type": "code",
   "execution_count": 46,
   "metadata": {},
   "outputs": [],
   "source": [
    "airTransportationCopy = airTransportation.copy()"
   ]
  },
  {
   "cell_type": "code",
   "execution_count": 47,
   "metadata": {},
   "outputs": [
    {
     "data": {
      "text/plain": [
       "DatetimeIndex(['2017-01-01', '2018-01-01', '2019-01-01', '2020-01-01',\n",
       "               '2021-01-01', '2022-01-01', '2023-01-01', '2024-01-01',\n",
       "               '2025-01-01', '2026-01-01', '2027-01-01'],\n",
       "              dtype='datetime64[ns]', freq='AS-JAN')"
      ]
     },
     "execution_count": 47,
     "metadata": {},
     "output_type": "execute_result"
    }
   ],
   "source": [
    "start = airTransportationCopy.index[-1] + pd.DateOffset(years = 1)\n",
    "fin = start + pd.DateOffset(years = 10)\n",
    "\n",
    "dates = pd.date_range(start, fin, freq = 'YS')\n",
    "dates"
   ]
  },
  {
   "cell_type": "code",
   "execution_count": 48,
   "metadata": {},
   "outputs": [],
   "source": [
    "alpha = 0.56\n",
    "\n",
    "for i in range(9):\n",
    "    data = airTransportationCopy.values\n",
    "    n = len(data)\n",
    "\n",
    "    lt = alpha*data[0]\n",
    "\n",
    "    for j in range(1,n):\n",
    "        nextlt = lt + alpha*(data[j] - lt)\n",
    "        lt = nextlt\n",
    "\n",
    "\n",
    "    prognosis = nextlt\n",
    "    airTransportationCopy.loc[dates[i], 'Passengers'] = prognosis"
   ]
  },
  {
   "cell_type": "code",
   "execution_count": 49,
   "metadata": {
    "scrolled": true
   },
   "outputs": [
    {
     "data": {
      "image/png": "[encoded data removed]",
      "text/plain": [
       "<Figure size 864x360 with 1 Axes>"
      ]
     },
     "metadata": {
      "needs_background": "light"
     },
     "output_type": "display_data"
    }
   ],
   "source": [
    "airTransportationCopy['Passengers'][:'2016'].plot(figsize=(12,5))\n",
    "airTransportationCopy['Passengers']['2016':].plot(figsize=(12,5))\n",
    "plt.show()"
   ]
  },
  {
   "cell_type": "markdown",
   "metadata": {},
   "source": [
    "\n",
    "\n",
    "\n",
    "\n"
   ]
  },
  {
   "cell_type": "markdown",
   "metadata": {},
   "source": [
    "Задание 2"
   ]
  },
  {
   "cell_type": "markdown",
   "metadata": {},
   "source": [
    "Постройте модель Хольта для линейного тренда с параметрами α= 0.59,  β= 0.43. Получите прогноз также на 10 лет вперед,  отобразите на графике аппроксимацию ряда моделью и прогноз."
   ]
  },
  {
   "cell_type": "code",
   "execution_count": 68,
   "metadata": {},
   "outputs": [],
   "source": [
    "alpha = 0.59\n",
    "betta = 0.43\n",
    "\n",
    "holtMetodData = airTransportation.copy()"
   ]
  },
  {
   "cell_type": "code",
   "execution_count": 69,
   "metadata": {},
   "outputs": [
    {
     "data": {
      "text/plain": [
       "DatetimeIndex(['2017-01-01', '2018-01-01', '2019-01-01', '2020-01-01',\n",
       "               '2021-01-01', '2022-01-01', '2023-01-01', '2024-01-01',\n",
       "               '2025-01-01', '2026-01-01', '2027-01-01'],\n",
       "              dtype='datetime64[ns]', freq='AS-JAN')"
      ]
     },
     "execution_count": 69,
     "metadata": {},
     "output_type": "execute_result"
    }
   ],
   "source": [
    "start = holtMetodData.index[-1] + pd.DateOffset(years = 1)\n",
    "fin = start + pd.DateOffset(years = 10)\n",
    "\n",
    "dates = pd.date_range(start, fin, freq = 'YS')\n",
    "dates"
   ]
  },
  {
   "cell_type": "code",
   "execution_count": 70,
   "metadata": {},
   "outputs": [],
   "source": [
    "for i in range(9):\n",
    "    data = holtMetodData.values\n",
    "    n = len(data)\n",
    "\n",
    "    lt = alpha*data[0]\n",
    "    bt = betta*data[0]\n",
    "\n",
    "    for j in range(1,n):\n",
    "        nextlt = alpha*data[j] + (1 - alpha)*(lt + bt)\n",
    "        nextbt = betta*(nextlt - lt) + (1 - betta)*bt\n",
    "        \n",
    "        lt = nextlt\n",
    "        bt = nextbt\n",
    "\n",
    "\n",
    "    prognosis = nextlt + nextbt\n",
    "    holtMetodData.loc[dates[i], 'Passengers'] = prognosis"
   ]
  },
  {
   "cell_type": "code",
   "execution_count": 71,
   "metadata": {},
   "outputs": [
    {
     "data": {
      "image/png": "[encoded data removed]",
      "text/plain": [
       "<Figure size 864x360 with 1 Axes>"
      ]
     },
     "metadata": {
      "needs_background": "light"
     },
     "output_type": "display_data"
    }
   ],
   "source": [
    "holtMetodData['Passengers'][:'2016'].plot(figsize=(12,5))\n",
    "holtMetodData['Passengers']['2016':].plot(figsize=(12,5))\n",
    "plt.show()"
   ]
  },
  {
   "cell_type": "markdown",
   "metadata": {},
   "source": [
    "\n",
    "\n",
    "\n"
   ]
  },
  {
   "cell_type": "markdown",
   "metadata": {},
   "source": [
    "Задание 3"
   ]
  },
  {
   "cell_type": "markdown",
   "metadata": {},
   "source": [
    "Постройте модель Хольта для аддитивного затухающего тренда с параметрами α = 0.39,  β = 0.10,  φ = 0.9.  Сравните аппроксимацию с данной моделью и прогноз с результатами из задания 2."
   ]
  },
  {
   "cell_type": "code",
   "execution_count": 72,
   "metadata": {},
   "outputs": [],
   "source": [
    "alpha = 0.39\n",
    "betta = 0.1\n",
    "fi = 0.9\n",
    "\n",
    "holtMetodAdditivnData = airTransportation.copy()"
   ]
  },
  {
   "cell_type": "code",
   "execution_count": 73,
   "metadata": {},
   "outputs": [
    {
     "data": {
      "text/plain": [
       "DatetimeIndex(['2017-01-01', '2018-01-01', '2019-01-01', '2020-01-01',\n",
       "               '2021-01-01', '2022-01-01', '2023-01-01', '2024-01-01',\n",
       "               '2025-01-01', '2026-01-01', '2027-01-01'],\n",
       "              dtype='datetime64[ns]', freq='AS-JAN')"
      ]
     },
     "execution_count": 73,
     "metadata": {},
     "output_type": "execute_result"
    }
   ],
   "source": [
    "start = holtMetodAdditivnData.index[-1] + pd.DateOffset(years = 1)\n",
    "fin = start + pd.DateOffset(years = 10)\n",
    "\n",
    "dates = pd.date_range(start, fin, freq = 'YS')\n",
    "dates"
   ]
  },
  {
   "cell_type": "code",
   "execution_count": 74,
   "metadata": {},
   "outputs": [],
   "source": [
    "for i in range(9):\n",
    "    data = holtMetodAdditivnData.values\n",
    "    n = len(data)\n",
    "\n",
    "    lt = alpha*data[0]\n",
    "    bt = betta*data[0]\n",
    "\n",
    "    for j in range(1,n):\n",
    "        nextlt = alpha*data[j] + (1 - alpha)*(lt + fi*bt)\n",
    "        nextbt = betta*(nextlt - lt) + (1 - betta)*fi*bt\n",
    "        \n",
    "        lt = nextlt\n",
    "        bt = nextbt\n",
    "\n",
    "\n",
    "    prognosis = nextlt + fi*nextbt\n",
    "    holtMetodAdditivnData.loc[dates[i], 'Passengers'] = prognosis"
   ]
  },
  {
   "cell_type": "code",
   "execution_count": 75,
   "metadata": {},
   "outputs": [
    {
     "data": {
      "image/png": "[encoded data removed]",
      "text/plain": [
       "<Figure size 864x360 with 1 Axes>"
      ]
     },
     "metadata": {
      "needs_background": "light"
     },
     "output_type": "display_data"
    }
   ],
   "source": [
    "holtMetodAdditivnData['Passengers'][:'2016'].plot(figsize=(12,5))\n",
    "holtMetodAdditivnData['Passengers']['2016':].plot(figsize=(12,5))\n",
    "holtMetodData['Passengers']['2016':].plot(figsize=(12,5))\n",
    "plt.show()"
   ]
  },
  {
   "cell_type": "code",
   "execution_count": null,
   "metadata": {},
   "outputs": [],
   "source": []
  }
 ],
 "metadata": {
  "kernelspec": {
   "display_name": "Python 3",
   "language": "python",
   "name": "python3"
  },
  "language_info": {
   "codemirror_mode": {
    "name": "ipython",
    "version": 3
   },
   "file_extension": ".py",
   "mimetype": "text/x-python",
   "name": "python",
   "nbconvert_exporter": "python",
   "pygments_lexer": "ipython3",
   "version": "3.7.4"
  }
 },
 "nbformat": 4,
 "nbformat_minor": 2
}
