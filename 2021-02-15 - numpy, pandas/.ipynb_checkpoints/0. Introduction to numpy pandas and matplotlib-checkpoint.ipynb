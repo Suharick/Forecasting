{
 "cells": [
  {
   "cell_type": "markdown",
   "metadata": {},
   "source": [
    "<center>\n",
    "<img src=\"img/numpy_pandas.png\">"
   ]
  },
  {
   "cell_type": "markdown",
   "metadata": {},
   "source": [
    "**NumPy** и **Pandas** являются основными библиотеками для проведения анализа и обработки данных на языке Python.\n",
    "\n",
    "**NumPy** позволяет проводить вычислительно эффективные операции с многомерными массивами. В свою очередь, **Pandas** использует функционал NumPy и предоставляет возможности удобной работы с табличными данными и временными рядами. Многие операции в Pandas являются аналогами запросов языка SQL.\n",
    "\n",
    "Для визуального анализа широко применяются библиотеки **Matplotlib** и **Seaborn**, возможности которых будут рассмотрены позже. Подгрузим необходимые для работы библиотеки с помощью следующего кода:"
   ]
  },
  {
   "cell_type": "code",
   "execution_count": null,
   "metadata": {},
   "outputs": [],
   "source": [
    "import numpy as np\n",
    "import pandas as pd\n",
    "\n",
    "import matplotlib.pyplot as plt\n",
    "%matplotlib inline"
   ]
  },
  {
   "cell_type": "markdown",
   "metadata": {},
   "source": [
    "Magic-команда `%matplotlib inline` позволяет производить отрисовку графиков прямо внутри Jupyter-ноутбука.\n",
    "\n",
    "В данном ноутбуке будут предемонстрированы основные возможности библиотек NumPy, Pandas и Matplotlib для работы с табличными данными и временными рядами."
   ]
  },
  {
   "cell_type": "markdown",
   "metadata": {},
   "source": [
    "# Содержание\n",
    "---\n",
    "\n",
    "<p>1. <a href=\"#numpy\"><font size='4'>Библиотека NumPy</font></a></p>\n",
    "<ul>\n",
    "\n",
    "<p>1.1. <a href=\"#create\"><font size='3'>Создание массивов</font></a></p>\n",
    "\n",
    "<p>1.2. <a href=\"#oper\"><font size='3'>Операции над массивами</font></a></p>\n",
    "\n",
    "<p>1.3. <a href=\"#idx\"><font size='3'>Индексация</font></a></p>\n",
    "    <p></p>\n",
    "<ul>\n",
    "<p>1.3.1. <a href=\"#slice\">Элементы и срезы</a></p>\n",
    "<p>1.3.2. <a href=\"#mask\">Индексация с помощью масок</a></p>\n",
    "<p>1.3.3. <a href=\"#int\">Индексация массивом целых чисел</a></p>\n",
    "</ul>\n",
    "\n",
    "\n",
    "</ul>\n",
    "\n",
    "\n",
    "<p>2. <a href=\"#pandas\"><font size='4'>Работа с табличными данными в Pandas</font></a>\n",
    "<ul>\n",
    "\n",
    "<p>2.1. <a href=\"#import\"><font size='3'>Загрузка данных</font></a></p>\n",
    "\n",
    "<p>2.2. <a href=\"#select\"><font size='3'>Извлечение данных</font></a></p>\n",
    "    <p></p>\n",
    "<ul>\n",
    "<p>2.2.1. <a href=\"#loc\">Индексация с помощью loc и iloc</a></p>\n",
    "<p>2.2.2. <a href=\"#bool\">Булева индексация</a></p>\n",
    "</ul>\n",
    "\n",
    "<p>2.3. <a href=\"#append\"><font size='3'>Добавление и удаление записей</font></a></p>\n",
    "\n",
    "<p>2.4. <a href=\"#fillna\"><font size='3'>Заполнение пропусков</font></a></p>\n",
    "\n",
    "<p>2.5. <a href=\"#group\"><font size='3'>Группировка данных</font></a></p>\n",
    "\n",
    "</ul>"
   ]
  },
  {
   "cell_type": "markdown",
   "metadata": {},
   "source": [
    "# 1. Библиотека <a href='http://www.numpy.org/'>NumPy</a>\n",
    "---\n",
    "<p><a name=\"numpy\"></a></p>\n",
    "\n",
    "\n",
    "Библиотека NumPy обладает неоспоримым преимуществом по сравнению со стандартными библиотеками Python. Для наглядной демонстрации создадим список из миллиона элементов стандартным способом и с помощью функции `np.arange` из NumPy, после чего возьмем синус каждого из элементов."
   ]
  },
  {
   "cell_type": "code",
   "execution_count": null,
   "metadata": {},
   "outputs": [],
   "source": [
    "import math"
   ]
  },
  {
   "cell_type": "code",
   "execution_count": null,
   "metadata": {},
   "outputs": [],
   "source": [
    "theta = [0.01 * i for i in range(10**3)]\n",
    "%timeit [math.sin(t) for t in theta]"
   ]
  },
  {
   "cell_type": "code",
   "execution_count": null,
   "metadata": {},
   "outputs": [],
   "source": [
    "theta_np = 0.01 * np.arange(10**3)\n",
    "%timeit np.sin(theta_np)"
   ]
  },
  {
   "cell_type": "markdown",
   "metadata": {},
   "source": [
    "Как видно из данного примера, математические операции, реализованные на языке Python, часто работают гораздо медленнее тех же алгоритмов, реализованных в NumPy. Более того, NumPy предоставляет реализации функций, оптимизированные для работы напрямую с многомерными массивами.\n",
    "\n",
    "Справка по библиотеке и её функциям доступна внутри ноутбука через команду `?_`."
   ]
  },
  {
   "cell_type": "code",
   "execution_count": null,
   "metadata": {},
   "outputs": [],
   "source": [
    "?np.arange"
   ]
  },
  {
   "cell_type": "markdown",
   "metadata": {},
   "source": [
    "## 1.1. Создание массивов\n",
    "<p><a name=\"create\"></a></p>"
   ]
  },
  {
   "cell_type": "markdown",
   "metadata": {},
   "source": [
    "Основным объектом NumPy является многомерный массив. Создавать массивы NumPy можно из стандартных списков Python, применив к ним функцию `np.array`, преобразующую массив к объекту `ndarray`. Вложенные списки будут преобазованы в многомерные массивы."
   ]
  },
  {
   "cell_type": "code",
   "execution_count": null,
   "metadata": {},
   "outputs": [],
   "source": [
    "a = np.array([1, 2, 3, 4])\n",
    "type(a)"
   ]
  },
  {
   "cell_type": "code",
   "execution_count": null,
   "metadata": {},
   "outputs": [],
   "source": [
    "b = np.array([[1, 2, 3], [4, 5, 6], [7, 8, 9]])\n",
    "b"
   ]
  },
  {
   "cell_type": "markdown",
   "metadata": {},
   "source": [
    "Массивы в NumPy имеют такие важные атрибуты, как:\n",
    "- `ndarray.shape` &ndash; выводит кортеж из чисел, показывающий длину массива по каждой оси;\n",
    "- `ndarray.size` &ndash; выводит количество элементов массива;\n",
    "- `ndarray.dtype` &ndash; описывает тип элементов массива. Тип можно определить как в момент создания массива, так и переопределить в дальнейшем."
   ]
  },
  {
   "cell_type": "code",
   "execution_count": null,
   "metadata": {},
   "outputs": [],
   "source": [
    "print(b.shape)\n",
    "print(b.size)"
   ]
  },
  {
   "cell_type": "code",
   "execution_count": null,
   "metadata": {},
   "outputs": [],
   "source": [
    "a.dtype"
   ]
  },
  {
   "cell_type": "code",
   "execution_count": null,
   "metadata": {},
   "outputs": [],
   "source": [
    "a = np.array([1, 2, 3], dtype=float)\n",
    "a.dtype"
   ]
  },
  {
   "cell_type": "markdown",
   "metadata": {},
   "source": [
    "Для создания последовательностей чисел с некоторым шагом используется функция `np.arange()`, аналогичная функции `range()` в Python, однако шаг может принимать и вещественные значения. Важно отметить, что последний элемент не влючается в массив."
   ]
  },
  {
   "cell_type": "code",
   "execution_count": null,
   "metadata": {},
   "outputs": [],
   "source": [
    "np.arange(0, 5, 0.2)"
   ]
  },
  {
   "cell_type": "markdown",
   "metadata": {},
   "source": [
    "Для создания равномерной сетки элементов в NumPy существует функция `np.linspace`, принимающая в качестве последнего аргумента число элементов, которое необходимо получить. При этом, по умолчанию, последнее значение также включается в массив."
   ]
  },
  {
   "cell_type": "code",
   "execution_count": null,
   "metadata": {},
   "outputs": [],
   "source": [
    "np.linspace(0, 5, 11)"
   ]
  },
  {
   "cell_type": "code",
   "execution_count": null,
   "metadata": {},
   "outputs": [],
   "source": [
    "np.linspace(0, 5, 11, endpoint=False)"
   ]
  },
  {
   "cell_type": "markdown",
   "metadata": {},
   "source": [
    "Можно изменить размерность полученного массива. Для этого используется атрибут `ndarray.reshape`:"
   ]
  },
  {
   "cell_type": "code",
   "execution_count": null,
   "metadata": {},
   "outputs": [],
   "source": [
    "c = np.arange(20).reshape(4, 5)\n",
    "c"
   ]
  },
  {
   "cell_type": "markdown",
   "metadata": {},
   "source": [
    "Иногда возникает ситуация, когда элементы массива неизвестны, а массив для последующий записи на определенные позиции новых элементов уже нужен. Для создания таких массивов можно воспользоваться функциями `np.zeros`, `np.ones`, `np.eye`, которые возвращают массивы из нулей, единиц и единичную матрицу соответственно. Тип массива при этом $-$ `float64`."
   ]
  },
  {
   "cell_type": "code",
   "execution_count": null,
   "metadata": {},
   "outputs": [],
   "source": [
    "d = np.zeros(10)\n",
    "d, d.dtype"
   ]
  },
  {
   "cell_type": "code",
   "execution_count": null,
   "metadata": {},
   "outputs": [],
   "source": [
    "e = np.zeros((3,4), dtype='int32')\n",
    "e, e.dtype"
   ]
  },
  {
   "cell_type": "code",
   "execution_count": null,
   "metadata": {},
   "outputs": [],
   "source": [
    "np.ones(10)"
   ]
  },
  {
   "cell_type": "code",
   "execution_count": null,
   "metadata": {},
   "outputs": [],
   "source": [
    "np.eye(5)"
   ]
  },
  {
   "cell_type": "markdown",
   "metadata": {},
   "source": [
    "Также есть возможность создать диагональную матрицу с помощью функции `np.diag`, указав элементы, стоящие на главной диагонали. Данная функция может оказаться полезной для корректного выполнения операции скалярного произведения."
   ]
  },
  {
   "cell_type": "code",
   "execution_count": null,
   "metadata": {},
   "outputs": [],
   "source": [
    "np.diag(np.array([1, 2, 3, 4]))"
   ]
  },
  {
   "cell_type": "markdown",
   "metadata": {},
   "source": [
    "При необходимости инициализировать массив случайными значениями можно воспользоваться модулем <a href='https://docs.scipy.org/doc/numpy-1.15.0/reference/routines.random.html'>`np.random`</a>. Этот модуль содержит множество полезных функций, например:\n",
    "- `rand(n,m,...)` &ndash; возвращает массив из $n\\times m$ $\\times\\ldots$ случайных значений;\n",
    "- `randn(n,m,...)` &ndash; возвращает массив из $n\\times m$ $\\times\\ldots$ случайных значений из стандартного нормального распределения;\n",
    "- `randint(low[, high, size, dtype])` &ndash; возвращает массив случайных целых чисел на заданном интервале;\n",
    "- `choice(a[, size, replace, p])`  &ndash; генерирует случайное множество значений размера `size`, список `p` при этом показывает, с какой вероятностью каждый элемент будет включен в массив. Опция `replace` указывает, могут ли элементы в полученном массиве повторяться;\n",
    "- `shuffle(x)` &ndash; случайно перемешивает элементы массива, меняя исходный массив."
   ]
  },
  {
   "cell_type": "code",
   "execution_count": null,
   "metadata": {},
   "outputs": [],
   "source": [
    "np.random.rand(10)"
   ]
  },
  {
   "cell_type": "code",
   "execution_count": null,
   "metadata": {},
   "outputs": [],
   "source": [
    "np.random.rand(2, 3)"
   ]
  },
  {
   "cell_type": "code",
   "execution_count": null,
   "metadata": {},
   "outputs": [],
   "source": [
    "np.random.seed(4)\n",
    "f = np.random.randint(-20, 20, 10)\n",
    "f"
   ]
  },
  {
   "cell_type": "code",
   "execution_count": null,
   "metadata": {},
   "outputs": [],
   "source": [
    "np.random.seed(4)\n",
    "np.random.choice(f, 5)"
   ]
  },
  {
   "cell_type": "code",
   "execution_count": null,
   "metadata": {},
   "outputs": [],
   "source": [
    "np.random.choice(f, 5, replace=False)"
   ]
  },
  {
   "cell_type": "code",
   "execution_count": null,
   "metadata": {},
   "outputs": [],
   "source": [
    "np.random.shuffle(f)\n",
    "f"
   ]
  },
  {
   "cell_type": "markdown",
   "metadata": {},
   "source": [
    "Многие алгоритмы построения предсказательных и прогнозных моделей требуют инициализации начальных значений параметров случайными значениями. Чтобы была возможность воспроизвести полученные результаты не стоит забывать фиксировать `seed` перед генерацией случайных чисел."
   ]
  },
  {
   "cell_type": "code",
   "execution_count": null,
   "metadata": {},
   "outputs": [],
   "source": [
    "np.random.seed(42)\n",
    "np.random.rand(10)"
   ]
  },
  {
   "cell_type": "code",
   "execution_count": null,
   "metadata": {},
   "outputs": [],
   "source": [
    "np.random.seed(42)\n",
    "np.random.rand(10)"
   ]
  },
  {
   "cell_type": "markdown",
   "metadata": {},
   "source": [
    "## 1.2. Операции над массивами\n",
    "<p><a name=\"oper\"></a></p>"
   ]
  },
  {
   "cell_type": "markdown",
   "metadata": {},
   "source": [
    "По сравнению со стандартными возможностями Python, в NumPy любые операции могут быть применены ко всему массиву сразу без необходимости прописывать цикл. В NumPy также доступны все базовые математические функции (sin, cos, exp, log и т. д.)."
   ]
  },
  {
   "cell_type": "code",
   "execution_count": null,
   "metadata": {},
   "outputs": [],
   "source": [
    "x = np.arange(5)\n",
    "y = np.random.random(5)"
   ]
  },
  {
   "cell_type": "code",
   "execution_count": null,
   "metadata": {},
   "outputs": [],
   "source": [
    "print(x)\n",
    "print(x + 1)"
   ]
  },
  {
   "cell_type": "code",
   "execution_count": null,
   "metadata": {},
   "outputs": [],
   "source": [
    "print(y)\n",
    "print(y ** 2)"
   ]
  },
  {
   "cell_type": "code",
   "execution_count": null,
   "metadata": {},
   "outputs": [],
   "source": [
    "x / y"
   ]
  },
  {
   "cell_type": "code",
   "execution_count": null,
   "metadata": {},
   "outputs": [],
   "source": [
    "np.cos(x) + np.sin(2 * np.pi * (x - y))"
   ]
  },
  {
   "cell_type": "code",
   "execution_count": null,
   "metadata": {},
   "outputs": [],
   "source": [
    "m = np.array([[7, 5, 8], [1, 66, 4], [2, 4, 88]])\n",
    "m.T"
   ]
  },
  {
   "cell_type": "markdown",
   "metadata": {},
   "source": [
    "Вычисление логарифма от аргументов массива может быть произведено с помощью функции `np.log`. Если же элементы массива принимают значения на интервале $[0,\\infty]$, то преобразовать массив можно с помощью функции `np.log1p`, которая вернет `np.log(1 + x)`. Операция потенцирования при этом может быть произведена с помощью функции `np.expm1`."
   ]
  },
  {
   "cell_type": "code",
   "execution_count": null,
   "metadata": {},
   "outputs": [],
   "source": [
    "print(np.log(y))\n",
    "print(np.exp(np.log(y)))"
   ]
  },
  {
   "cell_type": "code",
   "execution_count": null,
   "metadata": {},
   "outputs": [],
   "source": [
    "print(np.log1p(x))\n",
    "print(np.expm1(np.log1p(x)))"
   ]
  },
  {
   "cell_type": "markdown",
   "metadata": {},
   "source": [
    "## 1.3. Индексация\n",
    "<p><a name=\"idx\"></a></p>\n",
    "\n",
    "### 1.3.1. Элементы и срезы\n",
    "<p><a name=\"slice\"></a></p>"
   ]
  },
  {
   "cell_type": "markdown",
   "metadata": {},
   "source": [
    "К элементам массивов NumPy можно обращаться привычным способом по их индексам и через срезы:"
   ]
  },
  {
   "cell_type": "code",
   "execution_count": null,
   "metadata": {},
   "outputs": [],
   "source": [
    "print(x)\n",
    "print(x[0], x[2])"
   ]
  },
  {
   "cell_type": "code",
   "execution_count": null,
   "metadata": {},
   "outputs": [],
   "source": [
    "print(x[:3])\n",
    "print(x[::2])\n",
    "print(x[::-1])"
   ]
  },
  {
   "cell_type": "markdown",
   "metadata": {},
   "source": [
    "Получить нужные элементы многомерных массивов `ndarray` можно аналогичным образом, в то время как в Python получить срезы вложенных списков бывает довольно затруднительно."
   ]
  },
  {
   "cell_type": "code",
   "execution_count": null,
   "metadata": {},
   "outputs": [],
   "source": [
    "print(m)\n",
    "print(m[1, 2])"
   ]
  },
  {
   "cell_type": "code",
   "execution_count": null,
   "metadata": {},
   "outputs": [],
   "source": [
    "m[:2, :1]"
   ]
  },
  {
   "cell_type": "code",
   "execution_count": null,
   "metadata": {},
   "outputs": [],
   "source": [
    "m[:, 1:3]"
   ]
  },
  {
   "cell_type": "markdown",
   "metadata": {},
   "source": [
    "### 1.3.2. Индексация с помощью масок\n",
    "<p><a name=\"mask\"></a></p>"
   ]
  },
  {
   "cell_type": "markdown",
   "metadata": {},
   "source": [
    "Индексация с помощью масок позволяет извлекать данные, удовлетворяющие некоторому условию, а также вносить изменения в массив. Такой способ индексации может быть полезным, если в данных имеются выбросы. Например, известно, что все значения в столбце лежат в интервале $[1;10]$, но из-за допущенной ошибки при внесении информации встречаются значения вне данного интервала:"
   ]
  },
  {
   "cell_type": "code",
   "execution_count": null,
   "metadata": {},
   "outputs": [],
   "source": [
    "m"
   ]
  },
  {
   "cell_type": "code",
   "execution_count": null,
   "metadata": {},
   "outputs": [],
   "source": [
    "m > 10"
   ]
  },
  {
   "cell_type": "markdown",
   "metadata": {},
   "source": [
    "Зная особенности данных, можно предположить, на что следует заменить ошибочные значения."
   ]
  },
  {
   "cell_type": "code",
   "execution_count": null,
   "metadata": {},
   "outputs": [],
   "source": [
    "m[m > 10] = m[m > 10] % 10"
   ]
  },
  {
   "cell_type": "markdown",
   "metadata": {},
   "source": [
    "Функция `np.where` позволяет заменить значения, удовлетворяющие условию, на заданное, при этом не изменяя исходный массив. Третий аргумент функции показывает, на что следует заменить остальные значения."
   ]
  },
  {
   "cell_type": "code",
   "execution_count": null,
   "metadata": {},
   "outputs": [],
   "source": [
    "np.where(m == 8, -1, 0)"
   ]
  },
  {
   "cell_type": "code",
   "execution_count": null,
   "metadata": {},
   "outputs": [],
   "source": [
    "np.where(m == 8, -1, m)"
   ]
  },
  {
   "cell_type": "markdown",
   "metadata": {},
   "source": [
    "<div class=\"alert alert-info\">\n",
    "\n",
    "Запустите следующую ячейку с кодом. Почему получился именно такой результат?\n",
    " \n",
    "</div>"
   ]
  },
  {
   "cell_type": "code",
   "execution_count": null,
   "metadata": {},
   "outputs": [],
   "source": [
    "np.where([[True, False], [True, True]],\n",
    "         [[1, 2], [3, 4]],\n",
    "         [[9, 8], [7, 6]])"
   ]
  },
  {
   "cell_type": "markdown",
   "metadata": {},
   "source": [
    "### 1.3.3. Индексация массивом целых чисел\n",
    "<p><a name=\"int\"></a></p>"
   ]
  },
  {
   "cell_type": "markdown",
   "metadata": {},
   "source": [
    "К элементам массива также можно обратиться через список индексов. Порядок элементов полученного массива соответствует указанному порядку индексов."
   ]
  },
  {
   "cell_type": "code",
   "execution_count": null,
   "metadata": {},
   "outputs": [],
   "source": [
    "g = np.arange(0, 100, 10)\n",
    "g"
   ]
  },
  {
   "cell_type": "code",
   "execution_count": null,
   "metadata": {},
   "outputs": [],
   "source": [
    "g[[2, 3, 1, 4, 3]]"
   ]
  },
  {
   "cell_type": "code",
   "execution_count": null,
   "metadata": {},
   "outputs": [],
   "source": [
    "idx = np.array([[3, 4], [9, 7]])\n",
    "g[idx]"
   ]
  },
  {
   "cell_type": "markdown",
   "metadata": {},
   "source": [
    "Упомянутая выше функция `np.where` позволяет указать лишь один аргумент &ndash; непосредственно условие. В таком случае она возвращает индексы элементов:"
   ]
  },
  {
   "cell_type": "code",
   "execution_count": null,
   "metadata": {},
   "outputs": [],
   "source": [
    "m"
   ]
  },
  {
   "cell_type": "code",
   "execution_count": null,
   "metadata": {},
   "outputs": [],
   "source": [
    "np.where(m == 8)"
   ]
  },
  {
   "cell_type": "code",
   "execution_count": null,
   "metadata": {},
   "outputs": [],
   "source": [
    "m[_]"
   ]
  },
  {
   "cell_type": "markdown",
   "metadata": {},
   "source": [
    "<div class=\"alert alert-info\">\n",
    "\n",
    "<h3> Упражнения</h3>\n",
    "<p></p>\n",
    "\n",
    " <ol>\n",
    "  <li>Сгенерировать массив из положительных чисел произвольной длины. Вывести элементы, которые больше среднего арифметического.</li>\n",
    " <p></p>\n",
    " \n",
    "  <li>Сгенерировать массив из 20 элементов, элементы которого лежат в интервале [0, 10].</li>\n",
    "   <ul>\n",
    "          <li>Определить количество элементов, отличающихся от минимального на 5.</li>\n",
    "          <li>Найти среднее арифметическое всех четных элементов массива, стоящих на нечетных местах.</li>\n",
    "          <p></p>\n",
    "      </ul>\n",
    " \n",
    "  <li>Сгенерировать матрицу A размером 5 на 5, элементы которой лежат в интервале [1, 10].</li>\n",
    "      <ul>\n",
    "          <li>Возвести в квадрат максимальный элемент матрицы.</li>\n",
    "          <li>Все четные числа заменить на 0.</li>\n",
    "          <p></p>\n",
    "      </ul>\n",
    "      \n",
    "  <li>Сгенерировать матрицу B размером 5 на 5, элементы которой лежат в интервале [-5, 5]. Отрицательные элементы матрицы заменить на число отрицательных элементов в строке, в которой они находятся.</li>\n",
    "<p></p>\n",
    "  \n",
    "\n",
    " </ol> \n",
    "</div>"
   ]
  },
  {
   "cell_type": "code",
   "execution_count": null,
   "metadata": {},
   "outputs": [],
   "source": []
  },
  {
   "cell_type": "code",
   "execution_count": null,
   "metadata": {},
   "outputs": [],
   "source": []
  },
  {
   "cell_type": "code",
   "execution_count": null,
   "metadata": {},
   "outputs": [],
   "source": []
  },
  {
   "cell_type": "code",
   "execution_count": null,
   "metadata": {},
   "outputs": [],
   "source": []
  },
  {
   "cell_type": "markdown",
   "metadata": {},
   "source": [
    "# 2. Работа с табличными данными в <a href='http://pandas.pydata.org/pandas-docs/stable/'>Pandas</a>\n",
    "---\n",
    "\n",
    "<p><a name=\"pandas\"></a></p>\n",
    "\n",
    "\n",
    "Pandas позволяет представлять массивы NumPy в виде таблицы `pd.DataFrame`, сопоставив каждому элементу свои индекс и ключ. Создадим `DataFrame` с помощью словаря Python:"
   ]
  },
  {
   "cell_type": "code",
   "execution_count": null,
   "metadata": {},
   "outputs": [],
   "source": [
    "data = {'country': ['Belgium', 'France', 'Germany', 'Netherlands', 'United Kingdom'],\n",
    "        'population': [11.3, 64.3, 81.3, 16.9, 64.9],\n",
    "        'area': [30510, 671308, 357050, 41526, 244820],\n",
    "        'capital': ['Brussels', 'Paris', 'Berlin', 'Amsterdam', 'London']}\n",
    "df_countries = pd.DataFrame(data)\n",
    "df_countries"
   ]
  },
  {
   "cell_type": "markdown",
   "metadata": {},
   "source": [
    "Основными атрибутами `pd.DataFrame` являются `index`, `columns` и `values`, где `values` является массивом `ndarray`:"
   ]
  },
  {
   "cell_type": "code",
   "execution_count": null,
   "metadata": {},
   "outputs": [],
   "source": [
    "df_countries.index"
   ]
  },
  {
   "cell_type": "code",
   "execution_count": null,
   "metadata": {},
   "outputs": [],
   "source": [
    "df_countries.columns"
   ]
  },
  {
   "cell_type": "code",
   "execution_count": null,
   "metadata": {},
   "outputs": [],
   "source": [
    "df_countries.values"
   ]
  },
  {
   "cell_type": "markdown",
   "metadata": {},
   "source": [
    "Таким образом, для работы с таблицами Pandas доступны те же возможности, что и при работе с массивами NumPy. Размерность массива возвращает метод `shape`. Методы `describe()`, `info` позволяют провести первичный анализ данных: оценить распределение, обнаружить пропуски и выбросы в данных."
   ]
  },
  {
   "cell_type": "code",
   "execution_count": null,
   "metadata": {},
   "outputs": [],
   "source": [
    "df_countries.shape"
   ]
  },
  {
   "cell_type": "code",
   "execution_count": null,
   "metadata": {},
   "outputs": [],
   "source": [
    "df_countries.describe()"
   ]
  },
  {
   "cell_type": "code",
   "execution_count": null,
   "metadata": {},
   "outputs": [],
   "source": [
    "df_countries.info()"
   ]
  },
  {
   "cell_type": "markdown",
   "metadata": {
    "collapsed": true
   },
   "source": [
    "## 2.1. Загрузка данных\n",
    "<p><a name=\"import\"></a></p>"
   ]
  },
  {
   "cell_type": "markdown",
   "metadata": {},
   "source": [
    "В Pandas реализовано большое количество функции для удобного чтения данных различных форматов. Наиболее часто данные хранятся в формате `.csv`. В зависимости от формата данных, могут использоваться следующие функции:\n",
    "- `read_csv` &ndash; чтение табличных данных;\n",
    "- `read_excel` &ndash; чтение данных из файла Excel;\n",
    "- `read_json` &ndash; чтение более сложных структур данных JSON.\n",
    "\n",
    "Загрузим и отобразим первые и последние 5 строк набора данных о минимальной суточной температуре. Как видно по первым и последним пяти записям, данные содержат информацию о температуре воздуха с 1 января 1981 года по 31 декабря 1990 года."
   ]
  },
  {
   "cell_type": "code",
   "execution_count": null,
   "metadata": {},
   "outputs": [],
   "source": [
    "temperature_data = pd.read_csv('data/daily-min-temperatures.csv', index_col=0, parse_dates=True)"
   ]
  },
  {
   "cell_type": "code",
   "execution_count": null,
   "metadata": {},
   "outputs": [],
   "source": [
    "temperature_data.head()"
   ]
  },
  {
   "cell_type": "code",
   "execution_count": null,
   "metadata": {},
   "outputs": [],
   "source": [
    "temperature_data.tail()"
   ]
  },
  {
   "cell_type": "markdown",
   "metadata": {},
   "source": [
    "Опция `index_col` в `pd.read_csv` позволяет указать, какой столбец будет использоваться в качестве индексов. В данном случае будем использовать в качестве индекса дату. Сама дата может быть представлена в разных форматах, опция `parse_dates=True` автоматически определит и преобразует даты к формату `Timestamp`."
   ]
  },
  {
   "cell_type": "code",
   "execution_count": null,
   "metadata": {},
   "outputs": [],
   "source": [
    "temperature_data.index[0]"
   ]
  },
  {
   "cell_type": "markdown",
   "metadata": {},
   "source": [
    "Однако, Pandas не всегда способен корректно прочитать дату и время. Например, в разных странах приняты разные форматы даты и времени. В России принят формат DD.MM.YYYY, в то время как в Великобритании &ndash; DD/MM/YYYY, а в США &ndash; MM-DD-YYYY. Поэтому при чтении и обработке такого рода данных обращаются к библиотеке **datetime**, с помощью функционала которой можно указать явно формат, в котором хванится дата."
   ]
  },
  {
   "cell_type": "code",
   "execution_count": null,
   "metadata": {},
   "outputs": [],
   "source": [
    "import datetime as dt"
   ]
  },
  {
   "cell_type": "code",
   "execution_count": null,
   "metadata": {},
   "outputs": [],
   "source": [
    "dt.datetime.strptime('10FEB2020', '%d%b%Y')"
   ]
  },
  {
   "cell_type": "code",
   "execution_count": null,
   "metadata": {},
   "outputs": [],
   "source": [
    "dt.datetime.strptime('10FEB20', '%d%b%y')"
   ]
  },
  {
   "cell_type": "code",
   "execution_count": null,
   "metadata": {},
   "outputs": [],
   "source": [
    "dt.datetime.strptime('10/02/2020', '%d/%m/%Y')"
   ]
  },
  {
   "cell_type": "code",
   "execution_count": null,
   "metadata": {},
   "outputs": [],
   "source": [
    "dt.datetime.strptime('02-10-20', '%m-%d-%y')"
   ]
  },
  {
   "cell_type": "markdown",
   "metadata": {},
   "source": [
    "При импортировании набора данных необходимо указать формат даты через lambda-функцию и передать его в `date_parser`, при этом в `parse_dates` указать индекс или название колонки, где содержится дата."
   ]
  },
  {
   "cell_type": "code",
   "execution_count": null,
   "metadata": {},
   "outputs": [],
   "source": [
    "parser = lambda date: dt.datetime.strptime(date, '%Y-%m-%d')"
   ]
  },
  {
   "cell_type": "code",
   "execution_count": null,
   "metadata": {},
   "outputs": [],
   "source": [
    "pd.read_csv('data/daily-min-temperatures.csv', \n",
    "            index_col=0, \n",
    "            parse_dates=['Date'], \n",
    "            date_parser=parser).head()"
   ]
  },
  {
   "cell_type": "markdown",
   "metadata": {},
   "source": [
    "Также можно указать формат данных и после загрузки через метод `apply`.\n",
    "После успешной загрузки, можно отобразить временной ряд с помощью функции `df.plot()` из пакета Matplotlib."
   ]
  },
  {
   "cell_type": "code",
   "execution_count": null,
   "metadata": {},
   "outputs": [],
   "source": [
    "temperature_data.plot(figsize=(12,5))\n",
    "plt.show()"
   ]
  },
  {
   "cell_type": "markdown",
   "metadata": {},
   "source": [
    "Как видно из графика, во временном ряду присутствует ярко выраженная годовая сезонность. Причем наибольшая температура наблюдается в январе-феврале. Это связано с тем, что данные представляют собой погоду в Австралии, где лето начинается в декабре, а зима &ndash; в июне."
   ]
  },
  {
   "cell_type": "markdown",
   "metadata": {},
   "source": [
    "## 2.2. Извлечение данных\n",
    "<p><a name=\"select\"></a></p>"
   ]
  },
  {
   "cell_type": "markdown",
   "metadata": {},
   "source": [
    "Как было сказано ранее, к элементам таблицы Pandas можно применять те же функции, что и к простым массивам NumPy, например, возвести все элементы в квадрат, посчитать среднее, количество элементов, найти минимальное и максимальное значения."
   ]
  },
  {
   "cell_type": "code",
   "execution_count": null,
   "metadata": {},
   "outputs": [],
   "source": [
    "(temperature_data ** 2).head()"
   ]
  },
  {
   "cell_type": "code",
   "execution_count": null,
   "metadata": {},
   "outputs": [],
   "source": [
    "temperature_data.mean()"
   ]
  },
  {
   "cell_type": "code",
   "execution_count": null,
   "metadata": {},
   "outputs": [],
   "source": [
    "temperature_data.count()"
   ]
  },
  {
   "cell_type": "code",
   "execution_count": null,
   "metadata": {},
   "outputs": [],
   "source": [
    "temperature_data.apply(['max', 'min'])"
   ]
  },
  {
   "cell_type": "markdown",
   "metadata": {},
   "source": [
    "Рассмотрим данные о количестве поситителей одного ресторана в Японии в разные дни недели. Данные представлены по неделям года."
   ]
  },
  {
   "cell_type": "code",
   "execution_count": null,
   "metadata": {},
   "outputs": [],
   "source": [
    "visitors_data = pd.read_csv('data/visitors_data.csv', index_col='year_week')"
   ]
  },
  {
   "cell_type": "code",
   "execution_count": null,
   "metadata": {},
   "outputs": [],
   "source": [
    "visitors_data.head()"
   ]
  },
  {
   "cell_type": "code",
   "execution_count": null,
   "metadata": {},
   "outputs": [],
   "source": [
    "visitors_data.plot(figsize=(12,5))\n",
    "plt.show()"
   ]
  },
  {
   "cell_type": "markdown",
   "metadata": {},
   "source": [
    "<div class=\"alert alert-info\">\n",
    "\n",
    "Какие выводы можно сделать по графику выше?\n",
    " \n",
    "</div>"
   ]
  },
  {
   "cell_type": "markdown",
   "metadata": {},
   "source": [
    "По сравнению с NumPy можно обращаться к отдельным колонкам по их названию. Возьмем данные о количестве посетителей только за выходные дни."
   ]
  },
  {
   "cell_type": "code",
   "execution_count": null,
   "metadata": {},
   "outputs": [],
   "source": [
    "visitors_data[['Saturday', 'Sunday']].head()"
   ]
  },
  {
   "cell_type": "markdown",
   "metadata": {},
   "source": [
    "К объектам можно обращаться по индексу. В представленном случае возможны два варианта:"
   ]
  },
  {
   "cell_type": "code",
   "execution_count": null,
   "metadata": {},
   "outputs": [],
   "source": [
    "visitors_data[5:9]"
   ]
  },
  {
   "cell_type": "code",
   "execution_count": null,
   "metadata": {},
   "outputs": [],
   "source": [
    "visitors_data['2016-6':'2016-9']"
   ]
  },
  {
   "cell_type": "markdown",
   "metadata": {},
   "source": [
    "### 2.2.1. Индексация с помощью `loc` и `iloc`\n",
    "<p><a name=\"loc\"></a></p>"
   ]
  },
  {
   "cell_type": "markdown",
   "metadata": {},
   "source": [
    "К сожалению, обратиться к столбцам по индексу в `pd.DataFrame` не удастся. Если необходимо обратиться и изменить элементы как по строкам, так и по столбцам, оказываются полезными методы `.loc` и `.iloc`, соответствующие конструкции WHERE clause в SQL. `.loc` позволяет обращаться к элементам как непосредственно по их названиям, в то время как `.iloc` возвращает необходимые элементы по их индексам."
   ]
  },
  {
   "cell_type": "code",
   "execution_count": null,
   "metadata": {},
   "outputs": [],
   "source": [
    "visitors_data.iloc[5:9]"
   ]
  },
  {
   "cell_type": "code",
   "execution_count": null,
   "metadata": {},
   "outputs": [],
   "source": [
    "visitors_data.iloc[5:9, 2]"
   ]
  },
  {
   "cell_type": "code",
   "execution_count": null,
   "metadata": {},
   "outputs": [],
   "source": [
    "visitors_data.loc['2016-6':'2016-9', 'Wednesday']"
   ]
  },
  {
   "cell_type": "markdown",
   "metadata": {},
   "source": [
    "### 2.2.2. Булева индексация\n",
    "<p><a name=\"bool\"></a></p>"
   ]
  },
  {
   "cell_type": "markdown",
   "metadata": {},
   "source": [
    "Аналогично индексакции в NumPy, булева индексация позволяет извлекать данные, удовлетворяющие условию. Выведем, например, только те недели, где суммарное количество поситителей было меньше 140. Также возможно задать несколько условий."
   ]
  },
  {
   "cell_type": "code",
   "execution_count": null,
   "metadata": {},
   "outputs": [],
   "source": [
    "total_visitors = visitors_data.sum(axis=1)"
   ]
  },
  {
   "cell_type": "code",
   "execution_count": null,
   "metadata": {},
   "outputs": [],
   "source": [
    "total_visitors[total_visitors < 140]"
   ]
  },
  {
   "cell_type": "code",
   "execution_count": null,
   "metadata": {},
   "outputs": [],
   "source": [
    "visitors_data[(visitors_data['Monday'] < 10) | (visitors_data['Sunday'] > 28)]"
   ]
  },
  {
   "cell_type": "markdown",
   "metadata": {},
   "source": [
    "<div class=\"alert alert-info\">\n",
    "\n",
    "<h3> Упражнения</h3>\n",
    "<p></p>\n",
    "\n",
    " <ol>\n",
    "  <li>Вывести записи, где число посетителей было больше медианного значения.</li>\n",
    " <p></p>\n",
    "\n",
    "      \n",
    "  <li>Для каждой недели посчитать разницу в числе посетителей в пятницу и субботу. Отобразить полученный временной ряд.</li>\n",
    "<p></p>\n",
    "  \n",
    "\n",
    " </ol> \n",
    "</div>"
   ]
  },
  {
   "cell_type": "code",
   "execution_count": null,
   "metadata": {},
   "outputs": [],
   "source": []
  },
  {
   "cell_type": "code",
   "execution_count": null,
   "metadata": {},
   "outputs": [],
   "source": []
  },
  {
   "cell_type": "markdown",
   "metadata": {},
   "source": [
    "## 2.3. Добавление и удаление объектов\n",
    "<p><a name=\"append\"></a></p>"
   ]
  },
  {
   "cell_type": "markdown",
   "metadata": {},
   "source": [
    "Для добавления новых записей в имеющуюся таблицу можно воспользоваться методами `.loc` и `.iloc` при добавлении записей по одной, а также методом `append` при добавлении целой таблицы."
   ]
  },
  {
   "cell_type": "code",
   "execution_count": null,
   "metadata": {
    "scrolled": true
   },
   "outputs": [],
   "source": [
    "visitors_data.tail()"
   ]
  },
  {
   "cell_type": "code",
   "execution_count": null,
   "metadata": {},
   "outputs": [],
   "source": [
    "visitors_data.loc['2017-17'] = visitors_data.median()"
   ]
  },
  {
   "cell_type": "code",
   "execution_count": null,
   "metadata": {},
   "outputs": [],
   "source": [
    "visitors_data.tail()"
   ]
  },
  {
   "cell_type": "code",
   "execution_count": null,
   "metadata": {},
   "outputs": [],
   "source": [
    "to_update = visitors_data.tail(3)\n",
    "to_update.index = ['2017-18', '2017-19', '2017-20']"
   ]
  },
  {
   "cell_type": "code",
   "execution_count": null,
   "metadata": {
    "scrolled": true
   },
   "outputs": [],
   "source": [
    "visitors_data.append(to_update).tail(6)"
   ]
  },
  {
   "cell_type": "markdown",
   "metadata": {},
   "source": [
    "Удаление объектов и столбцов производится методом `.drop` с указанием `axis=0`, если удалить необходимо строки и `axis=1`, если столбцы. Удалим таким образом строку, соответствующую 52 неделе 2017 года. Исходный массив данных при этом не изменится. К изменению исходного массива данных приводит указание опции `inplace=True`."
   ]
  },
  {
   "cell_type": "code",
   "execution_count": null,
   "metadata": {},
   "outputs": [],
   "source": [
    "visitors_data.drop('2017-52', axis=0).tail()"
   ]
  },
  {
   "cell_type": "code",
   "execution_count": null,
   "metadata": {},
   "outputs": [],
   "source": [
    "visitors_data.drop('Sunday', axis=1, inplace=False).head()"
   ]
  },
  {
   "cell_type": "markdown",
   "metadata": {},
   "source": [
    "Опция `axis` также оказывается полезной, если нужно суммировать не по столбцам, а по строкам. По умолчанию `axis=0`."
   ]
  },
  {
   "cell_type": "code",
   "execution_count": null,
   "metadata": {},
   "outputs": [],
   "source": [
    "visitors_data.sum(axis=0)"
   ]
  },
  {
   "cell_type": "code",
   "execution_count": null,
   "metadata": {},
   "outputs": [],
   "source": [
    "visitors_data.sum(axis=1)"
   ]
  },
  {
   "cell_type": "markdown",
   "metadata": {},
   "source": [
    "## 2.4. Заполнение пропусков\n",
    "<p><a name=\"fillna\"></a></p>"
   ]
  },
  {
   "cell_type": "markdown",
   "metadata": {},
   "source": [
    "Довольно распространена ситуация, когда в данных имеются пропуски. Это может быть связано с техническими проблемами, например, при загрузке данных по погоде можно заметить отсутствие данных за 31 декабря и 1 января, поскольку в эти дни погодная станция, предоставляющая информацию, не работала. Могут возникать сбои в работе торговой точки, что приведет к отсутствию данных о транзакциях в определенные часы. Тем не менее, для построения модели прогнозирования, необходимо устранить пропуски, возникшие из-за подобных сбоев.\n",
    "\n",
    "В зависимости от причины возникновения пропусков принимается решение о том, чем их можно было бы заполнить. Наиболее простые способы устранения пропусков во временных рядах замена:\n",
    "- предшествующим известным значением;\n",
    "- следующим известным значением;\n",
    "- средним между соседними известными значениями.\n",
    "\n",
    "Такие возможности предоставляют методы `.fillna()` и `.interpolate()`."
   ]
  },
  {
   "cell_type": "code",
   "execution_count": null,
   "metadata": {},
   "outputs": [],
   "source": [
    "s = pd.Series([0, 1, np.nan, 3, 4, np.nan, 9])"
   ]
  },
  {
   "cell_type": "code",
   "execution_count": null,
   "metadata": {},
   "outputs": [],
   "source": [
    "s.fillna(0)"
   ]
  },
  {
   "cell_type": "code",
   "execution_count": null,
   "metadata": {},
   "outputs": [],
   "source": [
    "s.fillna(method='ffill')"
   ]
  },
  {
   "cell_type": "code",
   "execution_count": null,
   "metadata": {},
   "outputs": [],
   "source": [
    "s.fillna(method='bfill')"
   ]
  },
  {
   "cell_type": "code",
   "execution_count": null,
   "metadata": {},
   "outputs": [],
   "source": [
    "s.interpolate()"
   ]
  },
  {
   "cell_type": "markdown",
   "metadata": {},
   "source": [
    "## 2.5. Группировка данных\n",
    "<p><a name=\"group\"></a></p>"
   ]
  },
  {
   "cell_type": "markdown",
   "metadata": {},
   "source": [
    "Вернемся к набору данных о минимальной температуре воздуха. Преобразуем исходный ряд. Сгруппируем данные по годам и месяцам, чтобы найти среднюю температуру в каждый из месяцев. Для группировки данных воспользуемся методом `.groupby`. Данная операция аналогична конструкции GROUP BY в SQL и состоит из трех шагов, иногда ее называют **\"split-apply-combine\"**.\n",
    "\n",
    "<ul>\n",
    "    <li><b>Split</b>: данные делятся на группы по заданному критерию.</li>\n",
    "    <li><b>Apply</b>: к каждой группе применяется необходимая операция.</li>\n",
    "    <li><b>Combine</b>: результат собирается в таблицу.</li>\n",
    "</ul>"
   ]
  },
  {
   "cell_type": "code",
   "execution_count": null,
   "metadata": {},
   "outputs": [],
   "source": [
    "mean_temp = temperature_data.groupby([\n",
    "    temperature_data.index.year, temperature_data.index.month]).mean()"
   ]
  },
  {
   "cell_type": "code",
   "execution_count": null,
   "metadata": {},
   "outputs": [],
   "source": [
    "mean_temp.head(24)"
   ]
  },
  {
   "cell_type": "code",
   "execution_count": null,
   "metadata": {},
   "outputs": [],
   "source": [
    "mean_temp.plot(figsize=(12,5))\n",
    "plt.show()"
   ]
  },
  {
   "cell_type": "markdown",
   "metadata": {},
   "source": [
    "Другой пример группировки данных:"
   ]
  },
  {
   "cell_type": "code",
   "execution_count": null,
   "metadata": {},
   "outputs": [],
   "source": [
    "year_temperature = temperature_data.groupby(temperature_data.index.year)"
   ]
  },
  {
   "cell_type": "code",
   "execution_count": null,
   "metadata": {},
   "outputs": [],
   "source": [
    "year_temperature"
   ]
  },
  {
   "cell_type": "code",
   "execution_count": null,
   "metadata": {},
   "outputs": [],
   "source": [
    "years = pd.DataFrame()\n",
    "for name, group in year_temperature['Temp']:\n",
    "    years[name] = group.values\n",
    "years.plot(subplots=True, legend=False, figsize=(10,10))\n",
    "plt.show()"
   ]
  },
  {
   "cell_type": "markdown",
   "metadata": {},
   "source": [
    "Группировку последовательно по месяцам/кварталам/годам можно выполнить с помощью метода `resample`. Найдем среднюю температуру воздуха в каждый из месяцев:"
   ]
  },
  {
   "cell_type": "code",
   "execution_count": null,
   "metadata": {},
   "outputs": [],
   "source": [
    "temperature_data.resample('M').mean()"
   ]
  },
  {
   "cell_type": "code",
   "execution_count": null,
   "metadata": {},
   "outputs": [],
   "source": [
    "temperature_data.resample('MS').mean()"
   ]
  },
  {
   "cell_type": "markdown",
   "metadata": {},
   "source": [
    "При агрегации по кварталам используется параметр `Q`. В примере ниже представлены два варианта агрегирования по кварталам. Обратите внимание, что задавать даты с помощью `.loc` можно различными способами."
   ]
  },
  {
   "cell_type": "code",
   "execution_count": null,
   "metadata": {},
   "outputs": [],
   "source": [
    "monthly_temperature = temperature_data.resample('MS').mean()"
   ]
  },
  {
   "cell_type": "code",
   "execution_count": null,
   "metadata": {},
   "outputs": [],
   "source": [
    "first_year = monthly_temperature.loc['1981-01-01':'1981-12-01', 'Temp']\n",
    "first_year.values.reshape(4,3).mean(axis=1)"
   ]
  },
  {
   "cell_type": "code",
   "execution_count": null,
   "metadata": {},
   "outputs": [],
   "source": [
    "second_year = monthly_temperature.loc['1982Q1':'1982Q4', 'Temp']\n",
    "second_year.values.reshape(4,3).mean(axis=1)"
   ]
  },
  {
   "cell_type": "code",
   "execution_count": null,
   "metadata": {},
   "outputs": [],
   "source": [
    "monthly_temperature.resample('Q').mean().head(8)"
   ]
  },
  {
   "cell_type": "markdown",
   "metadata": {},
   "source": [
    "При агрегации по годам используется `Y`."
   ]
  },
  {
   "cell_type": "code",
   "execution_count": null,
   "metadata": {},
   "outputs": [],
   "source": [
    "temperature_data.resample('Y').mean()"
   ]
  }
 ],
 "metadata": {
  "kernelspec": {
   "display_name": "Python 3",
   "language": "python",
   "name": "python3"
  },
  "language_info": {
   "codemirror_mode": {
    "name": "ipython",
    "version": 3
   },
   "file_extension": ".py",
   "mimetype": "text/x-python",
   "name": "python",
   "nbconvert_exporter": "python",
   "pygments_lexer": "ipython3",
   "version": "3.7.4"
  }
 },
 "nbformat": 4,
 "nbformat_minor": 2
}
